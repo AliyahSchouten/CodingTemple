{
 "cells": [
  {
   "attachments": {},
   "cell_type": "markdown",
   "metadata": {},
   "source": [
    "# Coding Temple's Data Analytics Program\n",
    "---\n",
    "## Python Basics Assignment 4\n",
    "---"
   ]
  },
  {
   "attachments": {},
   "cell_type": "markdown",
   "metadata": {},
   "source": [
    "### **Task 1: Update Shopping Cart**\n",
    "Using the shopping cart you created yesterday as a blueprint, create a shopping cart using object-oriented programming. This shopping cart should maintain all functionality that you currently have in your blueprint."
   ]
  },
  {
   "cell_type": "code",
   "execution_count": null,
   "metadata": {},
   "outputs": [],
   "source": [
    "class Shopping_cart:\n",
    "    def __init__(self):\n",
    "        self.cart=[]\n",
    "\n",
    "    def add_item(self,item_name):\n",
    "            self.cart.append(item_name)\n",
    "        \n",
    "    \n",
    "    def delete(self, item_name):\n",
    "        for item in self.cart:\n",
    "            if item ==item_name:\n",
    "                self.cart.remove(item)\n",
    "\n",
    "    def print_list(self):\n",
    "        print(\"Shopping Cart: \")\n",
    "        print(self.cart)\n",
    "    def clear_list(self):\n",
    "        self.cart.clear\n",
    "       \n",
    "    \n",
    "            \n",
    "lst1=Shopping_cart()\n",
    "\n",
    "while True:\n",
    "    print('Do you want to : Show/Add/Delete/Clear or Quit?')\n",
    "\n",
    "    response=input('Enter 1 to add, 2 to show, 3 to delete, 4 to clear, 5 to quit')\n",
    "\n",
    "    if response=='1':\n",
    "        \n",
    "        item=input('What would you like to add')\n",
    "        \n",
    "        lst1.add_item(item)\n",
    "\n",
    "    elif response=='2':\n",
    "        lst1.print_list()\n",
    "\n",
    "    elif response=='3':\n",
    "        item=input('Enter the item you want to remove')\n",
    "        lst1.delete(item)\n",
    "    elif response=='4':\n",
    "        lst1.clear_list\n",
    "    \n",
    "    elif response=='5':\n",
    "        break \n"
   ]
  },
  {
   "attachments": {},
   "cell_type": "markdown",
   "metadata": {},
   "source": [
    "### **Task 2: String Class**\n",
    "Write a class which has the following two methods:\n",
    "* `get_string`: Accepts a string input from the user\n",
    "* `print_string`: Prints the string all in upper-case"
   ]
  },
  {
   "cell_type": "code",
   "execution_count": null,
   "metadata": {},
   "outputs": [],
   "source": [
    "# YOUR CODE HERE\n",
    "class String:\n",
    "    response=''\n",
    "\n",
    "    def get_string():\n",
    "        response=input('Please enter a string')\n",
    "    def print_string(self):\n",
    "        print(self.response)\n",
    "\n"
   ]
  },
  {
   "attachments": {},
   "cell_type": "markdown",
   "metadata": {},
   "source": [
    "### **Task 3: Activities**\n",
    "Create a class that depicts your favorite activity. Add in attributes that are associated with that activity in you `__init__` call. Also, create three functions that are associated with the activity.\n",
    "\n",
    "**Example:**\n",
    "If I chose football, I may have a FootballPlayer class with attributes such as:\n",
    "* `self.speed`\n",
    "* `self.strength`\n",
    "* `self.position`\n",
    "\n",
    "and methods such as:\n",
    "* `def pass_ball`\n",
    "* `def run`\n",
    "* `def faster_than_x`"
   ]
  },
  {
   "cell_type": "code",
   "execution_count": null,
   "metadata": {},
   "outputs": [],
   "source": [
    "class baking_a_cake:\n",
    "    def __init__(self,baking_time,flavor,frosting_flavor):\n",
    "        self.baking_time=baking_time\n",
    "        self.flavor=flavor\n",
    "        self.frosting_flavor=frosting_flavor\n",
    "        \n",
    "\n",
    "    def change_time(self,increase):\n",
    "        self.baking_time+=increase\n",
    "    def check_if_done(self):\n",
    "        if self.backing_time!=0:\n",
    "            return 'need to keep baking'\n",
    "        else: return 'Keep on baking for {baking_time}'\n",
    "    def add_sprinkle():\n",
    "        return 'Sprinkles Added!'\n"
   ]
  },
  {
   "attachments": {},
   "cell_type": "markdown",
   "metadata": {},
   "source": [
    "### **Task 4: Test Your Class!**\n",
    "Now that you created your class, let's create an instance of your class. In the cell below, instantiate a Class Object, then test each of your class methods on that object."
   ]
  },
  {
   "cell_type": "code",
   "execution_count": null,
   "metadata": {},
   "outputs": [],
   "source": [
    "cake1=baking_a_cake(10,'vanilla','strawberry')\n",
    "cake1.add_sprinkle\n",
    "cake1.check_if_done\n",
    "cake1.change_time(2)\n"
   ]
  }
 ],
 "metadata": {
  "kernelspec": {
   "display_name": "Python 3",
   "language": "python",
   "name": "python3"
  },
  "language_info": {
   "codemirror_mode": {
    "name": "ipython",
    "version": 3
   },
   "file_extension": ".py",
   "mimetype": "text/x-python",
   "name": "python",
   "nbconvert_exporter": "python",
   "pygments_lexer": "ipython3",
   "version": "3.11.3"
  },
  "orig_nbformat": 4,
  "vscode": {
   "interpreter": {
    "hash": "26de051ba29f2982a8de78e945f0abaf191376122a1563185a90213a26c5da77"
   }
  }
 },
 "nbformat": 4,
 "nbformat_minor": 2
}
