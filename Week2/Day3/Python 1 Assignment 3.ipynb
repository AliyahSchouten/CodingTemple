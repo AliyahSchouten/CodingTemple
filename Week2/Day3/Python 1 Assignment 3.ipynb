{
 "cells": [
  {
   "attachments": {},
   "cell_type": "markdown",
   "metadata": {},
   "source": [
    "# Coding Temple's Data Analytics Program\n",
    "---\n",
    "## Python 1 Assignment 3\n",
    "---"
   ]
  },
  {
   "attachments": {},
   "cell_type": "markdown",
   "metadata": {},
   "source": [
    "### **Task 1: Build a Shopping Cart**\n",
    "**You can use either lists or dictionaries. The program should have the following capabilites:**\n",
    "* Takes a string as an input\n",
    "* Stores user input in a dictionary or list\n",
    "* Users should be able to:\n",
    "    * Add Items\n",
    "    * Delete Items\n",
    "    * See current shopping cart\n",
    "* The program should loop until user 'quits'\n",
    "* Upon quitting the program, print out all items in the user's list"
   ]
  },
  {
   "cell_type": "code",
   "execution_count": 2,
   "metadata": {},
   "outputs": [],
   "source": [
    "from IPython.display import clear_output\n",
    "\n",
    "# Ask the user 5 bits of input: Do you want to : Show/Add/Delete/clear or Quit?\n",
    "# YOUR CODE HERE\n",
    "def shopping_list():\n",
    "    shopping=[]\n",
    "    while True:\n",
    "        item=(input(\"Do you want to : Show/Add/Delete/Clear or Quit?\"))\n",
    "        if item.title()=='Add':\n",
    "            shopping.append(input('What would you like to add?'))\n",
    "        elif item.title()=='Delete':\n",
    "            delete=input(\"What would you like to delete?\")\n",
    "            for index in shopping:\n",
    "                if index==delete: \n",
    "                    shopping.remove(index)\n",
    "        elif item.title()=='Clear':\n",
    "            shopping.clear()\n",
    "        elif item.title()=='Quit':\n",
    "            break\n",
    "        elif item.title()=='Show':\n",
    "            print(shopping)\n",
    "shopping_list()"
   ]
  },
  {
   "attachments": {},
   "cell_type": "markdown",
   "metadata": {},
   "source": [
    "### **Task 2: Create a Module and Import it**\n",
    "Create a Module in VS Code and import it into a Notebook. Use each of the functions you build in your module\n",
    "\n",
    "**Your module should have the following capabilities:**\n",
    "* Has a function to calculate the square footage of a house\n",
    "* Has a function to calculate the circumference of a circle\n",
    "* Has a function to change feet to inches"
   ]
  },
  {
   "cell_type": "code",
   "execution_count": 1,
   "metadata": {},
   "outputs": [
    {
     "name": "stdout",
     "output_type": "stream",
     "text": [
      "10\n",
      "18.84\n",
      "60\n"
     ]
    }
   ],
   "source": [
    "import assignment3_module\n",
    "print(assignment3_module.square_foot(2,5))\n",
    "print(assignment3_module.circumference(3))\n",
    "print(assignment3_module.ft_to_in(5))"
   ]
  },
  {
   "attachments": {},
   "cell_type": "markdown",
   "metadata": {},
   "source": [
    "### **Task 3.1: Lists**\n",
    "Create 4 lists. Two of these lists should be keys, two of these lists should be values"
   ]
  },
  {
   "cell_type": "code",
   "execution_count": 3,
   "metadata": {},
   "outputs": [],
   "source": [
    "lst1=['apple','pear','pizza']\n",
    "lst2=['candy','cookies','snack']\n",
    "lst3=[1.99,2.99,8]\n",
    "lst4=[4.55,6.77,3.55]"
   ]
  },
  {
   "attachments": {},
   "cell_type": "markdown",
   "metadata": {},
   "source": [
    "### **Task 3.2: Create a function that converts two lists into a dictionary, then merges two dictionaries into one.**\n",
    "\n",
    "Using your 4 lists, create a function which combines the keys lists with the values lists into a dictionary, then merges and returns the two dictionaries together."
   ]
  },
  {
   "cell_type": "code",
   "execution_count": 4,
   "metadata": {},
   "outputs": [
    {
     "data": {
      "text/plain": [
       "{'apple': 1.99,\n",
       " 'pear': 2.99,\n",
       " 'pizza': 8,\n",
       " 'candy': 4.55,\n",
       " 'cookies': 6.77,\n",
       " 'snack': 3.55}"
      ]
     },
     "execution_count": 4,
     "metadata": {},
     "output_type": "execute_result"
    }
   ],
   "source": [
    "def merge(lst1,lst2,lst3,lst4):\n",
    "    new_dict={}\n",
    "    for index in range(len(lst1)):\n",
    "        new_dict[lst1[index]] = lst3[index]\n",
    "    for index in range(len(lst2)):\n",
    "        new_dict[lst2[index]] = lst4[index]\n",
    "    return new_dict\n",
    "\n",
    "\n",
    "merge(lst1,lst2,lst3,lst4)\n",
    "    "
   ]
  }
 ],
 "metadata": {
  "kernelspec": {
   "display_name": "Python 3",
   "language": "python",
   "name": "python3"
  },
  "language_info": {
   "codemirror_mode": {
    "name": "ipython",
    "version": 3
   },
   "file_extension": ".py",
   "mimetype": "text/x-python",
   "name": "python",
   "nbconvert_exporter": "python",
   "pygments_lexer": "ipython3",
   "version": "3.11.3"
  },
  "orig_nbformat": 4,
  "vscode": {
   "interpreter": {
    "hash": "26de051ba29f2982a8de78e945f0abaf191376122a1563185a90213a26c5da77"
   }
  }
 },
 "nbformat": 4,
 "nbformat_minor": 2
}
