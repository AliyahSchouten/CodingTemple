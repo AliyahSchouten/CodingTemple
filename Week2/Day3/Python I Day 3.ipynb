{
  "cells": [
    {
      "attachments": {},
      "cell_type": "markdown",
      "metadata": {
        "id": "5KFNmEo6vVr7"
      },
      "source": [
        "# Coding Temple's Data Analytics Course\n",
        "---\n",
        "## Python I: Data Collections 2 (Dictionaries, Sets) and Importing Modules\n",
        "---"
      ]
    },
    {
      "attachments": {},
      "cell_type": "markdown",
      "metadata": {
        "id": "j9K-45kEvVr-"
      },
      "source": [
        "### Tasks Today:\n",
        "\n",
        "1) Dictionary <br>\n",
        " &nbsp;&nbsp;&nbsp;&nbsp; a) Declaring (key, value) <br>\n",
        " &nbsp;&nbsp;&nbsp;&nbsp; b) Accessing Values <br>\n",
        " &nbsp;&nbsp;&nbsp;&nbsp; ------ Exercise #1 - Print the eye color of each person in a double nested dict <br>\n",
        " &nbsp;&nbsp;&nbsp;&nbsp; c) Adding New Pairs <br>\n",
        " &nbsp;&nbsp;&nbsp;&nbsp; d) Modifying Values <br>\n",
        " &nbsp;&nbsp;&nbsp;&nbsp; e) Removing Key, Value Pairs <br>\n",
        " &nbsp;&nbsp;&nbsp;&nbsp; f) Looping a Dictionary <br>\n",
        " &nbsp;&nbsp;&nbsp;&nbsp; g) Looping Only Keys <br>\n",
        " &nbsp;&nbsp;&nbsp;&nbsp; h) Looping Only Values <br>\n",
        " &nbsp;&nbsp;&nbsp;&nbsp; ------ Exercise #2 - Create a Function that Prints All Key Value Pairs within a print .format()  <br>\n",
        " &nbsp;&nbsp;&nbsp;&nbsp; i) sorted() <br>\n",
        " &nbsp;&nbsp;&nbsp;&nbsp; j) Lists with Dictionaries <br>\n",
        " &nbsp;&nbsp;&nbsp;&nbsp; k) Dictionaries with Lists <br>\n",
        " &nbsp;&nbsp;&nbsp;&nbsp; l) Dictionaries with Dictionaries <br>\n",
        " &nbsp;&nbsp;&nbsp;&nbsp; ------ Exercise #3 - Write a Function that asks someone's name and address, and then stores that into a dictionary, which prints all names and addresses after they're done putting information in...  <br>\n",
        "2) Dictionaries vs. Lists (over time)<br>\n",
        "3) Set <br>\n",
        " &nbsp;&nbsp;&nbsp;&nbsp; a) Declaring <br>\n",
        " &nbsp;&nbsp;&nbsp;&nbsp; b) .add() <br>\n",
        " &nbsp;&nbsp;&nbsp;&nbsp; c) .remove() <br>\n",
        " &nbsp;&nbsp;&nbsp;&nbsp; d) .union() <br>\n",
        " &nbsp;&nbsp;&nbsp;&nbsp; e) .intersection() <br>\n",
        " &nbsp;&nbsp;&nbsp;&nbsp; f) .difference() <br>\n",
        " &nbsp;&nbsp;&nbsp;&nbsp; g) Frozen Set <br>\n",
        "4) Modules <br>\n",
        " &nbsp;&nbsp;&nbsp;&nbsp; a) Importing Entire Modules <br>\n",
        " &nbsp;&nbsp;&nbsp;&nbsp; b) Importing Methods Only <br>\n",
        " &nbsp;&nbsp;&nbsp;&nbsp; c) Using the 'as' Keyword <br>\n",
        " &nbsp;&nbsp;&nbsp;&nbsp; d) Creating a Module <br>\n",
        "5) Exercises <br>\n",
        " &nbsp;&nbsp;&nbsp;&nbsp; a) Build a Shopping Cart <br>\n",
        " &nbsp;&nbsp;&nbsp;&nbsp; b) Create Your Own Module <br>"
      ]
    },
    {
      "attachments": {},
      "cell_type": "markdown",
      "metadata": {
        "id": "tG2CnNg5vVr_"
      },
      "source": [
        "## Dictionary <br>\n",
        "<p>A collection of data with 'key:value' pairs. Dictionaries are ordered as of Python 3.6</p>"
      ]
    },
    {
      "attachments": {},
      "cell_type": "markdown",
      "metadata": {
        "id": "_ovzJpJ2vVr_"
      },
      "source": [
        "##### Declaring (key, value)"
      ]
    },
    {
      "cell_type": "code",
      "execution_count": 22,
      "metadata": {
        "id": "NmLqPHwvvVsA"
      },
      "outputs": [],
      "source": [
        "#when we make a key for a dict, the key should alwyas be unique.\n",
        "#Can use either numbers OR strings as a key\n",
        "#instantiate:\n",
        "d1={}\n",
        "#or\n",
        "d2=dict()\n",
        "#or\n",
        "d3={\n",
        "    'dave':'255 Main Street',\n",
        "    'sean':'522 1st street',\n",
        "    0:'this is a value for the key of 0',\n",
        "    'Alex':'kjhbvhj'\n",
        "    \n",
        "}"
      ]
    },
    {
      "attachments": {},
      "cell_type": "markdown",
      "metadata": {
        "id": "PmFu1v4CvVsA"
      },
      "source": [
        "##### Accessing Values"
      ]
    },
    {
      "cell_type": "code",
      "execution_count": 5,
      "metadata": {
        "id": "t1apypi_vVsB"
      },
      "outputs": [
        {
          "data": {
            "text/plain": [
              "'255 Main Street'"
            ]
          },
          "execution_count": 5,
          "metadata": {},
          "output_type": "execute_result"
        }
      ],
      "source": [
        "#dict[key]\n",
        "d3['dave']\n",
        "d3[0]\n"
      ]
    },
    {
      "attachments": {},
      "cell_type": "markdown",
      "metadata": {
        "id": "CfVTqCdLvVsB"
      },
      "source": [
        "## In-Class Exercise #1 - Print a formatted statement from the dictionary below <br>\n",
        "<p>The output should be '2018 Chevrolet Silverado'</p>"
      ]
    },
    {
      "cell_type": "code",
      "execution_count": 21,
      "metadata": {
        "id": "purCoPGOvVsB"
      },
      "outputs": [
        {
          "name": "stdout",
          "output_type": "stream",
          "text": [
            "2018 Chevrolet Silverado\n"
          ]
        }
      ],
      "source": [
        "# use the dict below\n",
        "truck = {\n",
        "    'year': 2018,\n",
        "    'make': 'Chevrolet',\n",
        "    'model': 'Silverado'\n",
        "}\n",
        "print(f\"{truck['year']} {truck['make']} {truck['model']}\")"
      ]
    },
    {
      "attachments": {},
      "cell_type": "markdown",
      "metadata": {
        "id": "duMuMkiHvVsC"
      },
      "source": [
        "##### Adding New Pairs"
      ]
    },
    {
      "cell_type": "code",
      "execution_count": 23,
      "metadata": {
        "id": "jviBrpR9vVsD"
      },
      "outputs": [],
      "source": [
        "#add an item to a dictionary, we call to the dict object and give the new key. then we set the ke equal to the value we want assoite it wit\n",
        "#dict[key]=value\n",
        "d3['bob']='151 Main Street'"
      ]
    },
    {
      "attachments": {},
      "cell_type": "markdown",
      "metadata": {
        "id": "_Bbc0fFEvVsD"
      },
      "source": [
        "##### Modifying Values"
      ]
    },
    {
      "cell_type": "code",
      "execution_count": 24,
      "metadata": {
        "id": "b1Z6VnhMvVsE"
      },
      "outputs": [
        {
          "data": {
            "text/plain": [
              "{'dave': '255 Main Street',\n",
              " 'sean': '522 1st street',\n",
              " 0: 'this is a value for the key of 0',\n",
              " 'Alex': 'kjhbvhj',\n",
              " 'bob': '151 Main StreetChicago, IL'}"
            ]
          },
          "execution_count": 24,
          "metadata": {},
          "output_type": "execute_result"
        }
      ],
      "source": [
        "# dict[key]=new_value\n",
        "d3['bob']=d3['bob']+'Chicago, IL'\n",
        "d3"
      ]
    },
    {
      "attachments": {},
      "cell_type": "markdown",
      "metadata": {
        "id": "Wrbr3-yRvVsE"
      },
      "source": [
        "##### Removing Key, Value Pairs"
      ]
    },
    {
      "cell_type": "code",
      "execution_count": 25,
      "metadata": {
        "id": "dxzQ0qKLvVsE"
      },
      "outputs": [],
      "source": [
        "#del keyword from yesterday to delete key:value pair\n",
        "#del dict[Key]\n",
        "del d3['Alex']"
      ]
    },
    {
      "attachments": {},
      "cell_type": "markdown",
      "metadata": {
        "id": "pCmdguG9vVsE"
      },
      "source": [
        "##### Looping a Dictionary"
      ]
    },
    {
      "cell_type": "code",
      "execution_count": 26,
      "metadata": {
        "id": "cFnSnZX4vVsE"
      },
      "outputs": [
        {
          "name": "stdout",
          "output_type": "stream",
          "text": [
            "dave 255 Main Street\n",
            "sean 522 1st street\n",
            "0 this is a value for the key of 0\n",
            "bob 151 Main StreetChicago, IL\n"
          ]
        }
      ],
      "source": [
        "#.items()\n",
        "#allos you to access all the associated information within a dictionayr object\n",
        "\n",
        "# let's look at an example:\n",
        "#correct way to access a key and value pair:\n",
        "for key, value in d3.items():\n",
        "    print(key,value)"
      ]
    },
    {
      "attachments": {},
      "cell_type": "markdown",
      "metadata": {
        "id": "upAeCEWzvVsF"
      },
      "source": [
        "##### Looping Only Keys"
      ]
    },
    {
      "cell_type": "code",
      "execution_count": 27,
      "metadata": {
        "id": "n9nNnOVAvVsF"
      },
      "outputs": [
        {
          "name": "stdout",
          "output_type": "stream",
          "text": [
            "dave\n",
            "sean\n",
            "0\n",
            "bob\n",
            "dave\n",
            "sean\n",
            "0\n",
            "bob\n"
          ]
        }
      ],
      "source": [
        "#.key()\n",
        "#avvess the keys inside of the dictionary with the built-in .keys() method:\n",
        "for key in d3.keys():\n",
        "    print(key)\n",
        "#Grabbing a didctionaries keys without using a built -in method:\n",
        "for key in d3:\n",
        "    print(key)"
      ]
    },
    {
      "attachments": {},
      "cell_type": "markdown",
      "metadata": {
        "id": "ZgKwXNn4vVsF"
      },
      "source": [
        "##### Looping Only Values"
      ]
    },
    {
      "cell_type": "code",
      "execution_count": 28,
      "metadata": {
        "id": "1CkDVB8xvVsF"
      },
      "outputs": [
        {
          "name": "stdout",
          "output_type": "stream",
          "text": [
            "255 Main Street\n",
            "522 1st street\n",
            "this is a value for the key of 0\n",
            "151 Main StreetChicago, IL\n"
          ]
        }
      ],
      "source": [
        "#.values()\n",
        "for value in d3.values():\n",
        "    print(value)"
      ]
    },
    {
      "attachments": {},
      "cell_type": "markdown",
      "metadata": {
        "id": "SqvChRcVvVsF"
      },
      "source": [
        "## In-Class Exercise #2 - Create a Function that Prints All Key Value Pairs within a print .format() <br>\n",
        "<p><b>Output should be:</b><br>\n",
        "Max has blue eyes<br>\n",
        "Lilly has brown eyes<br>\n",
        "Barney has blue eyes<br>\n",
        "etc.\n",
        "</p>"
      ]
    },
    {
      "cell_type": "code",
      "execution_count": 33,
      "metadata": {
        "id": "gquKolGWvVsG"
      },
      "outputs": [
        {
          "name": "stdout",
          "output_type": "stream",
          "text": [
            "Max has blue eyes.\n",
            "\n",
            "Lilly has brown eyes.\n",
            "\n",
            "Barney has blue eyes.\n",
            "\n",
            "Larney has brown eyes.\n",
            "\n",
            "Ted has purple eyes.\n",
            "\n"
          ]
        }
      ],
      "source": [
        "# use the dict below\n",
        "\n",
        "people = {\n",
        "    'Max': 'blue',\n",
        "    'Lilly': 'brown',\n",
        "    'Barney': 'blue',\n",
        "    'Larney': 'brown',\n",
        "    'Ted': 'purple'\n",
        "}\n",
        "def eyes(dic_1):\n",
        "    for key,value in dic_1.items():\n",
        "        print(f\"{key} has {value} eyes.\\n\")\n",
        "eyes(people)"
      ]
    },
    {
      "attachments": {},
      "cell_type": "markdown",
      "metadata": {
        "id": "29N6BueGvVsG"
      },
      "source": [
        "##### sorted()"
      ]
    },
    {
      "cell_type": "code",
      "execution_count": 35,
      "metadata": {
        "id": "UYqYM0RUvVsG"
      },
      "outputs": [
        {
          "name": "stdout",
          "output_type": "stream",
          "text": [
            "[('Ted', 'purple'), ('Max', 'blue'), ('Lilly', 'brown'), ('Larney', 'brown'), ('Barney', 'blue')]\n",
            "['blue', 'blue', 'brown', 'brown', 'purple']\n",
            "['Barney', 'Larney', 'Lilly', 'Max', 'Ted']\n"
          ]
        }
      ],
      "source": [
        "#Sorts variables in order\n",
        "#sorted(dict.values() or the dicr.keys() of the dict.items())\n",
        "print(sorted(people.items())[::-1])\n",
        "print(sorted(people.values()))\n",
        "print(sorted(people.keys()))"
      ]
    },
    {
      "attachments": {},
      "cell_type": "markdown",
      "metadata": {
        "id": "4GJZ_rO-vVsG"
      },
      "source": [
        "##### List with Dictionaries"
      ]
    },
    {
      "cell_type": "code",
      "execution_count": 37,
      "metadata": {
        "id": "y-4KUYz6vVsG"
      },
      "outputs": [
        {
          "name": "stdout",
          "output_type": "stream",
          "text": [
            "['Dave', 'Randy', 'Greg', {'random_guy': 'Robert', 'random_girl': 'Barbara'}]\n",
            "random_guy\n",
            "random_girl\n"
          ]
        }
      ],
      "source": [
        "names=['Dave','Randy','Greg',{'random_guy':'Robert','random_girl':'Barbara'}]\n",
        "print(names)\n",
        "names[3]['random_guy']\n",
        "\n",
        "#Get all the keys from the nested dictionary object into a list:\n",
        "for keys in names[3].keys():\n",
        "    print(keys)"
      ]
    },
    {
      "attachments": {},
      "cell_type": "markdown",
      "metadata": {
        "id": "Sa_0SbhSvVsG"
      },
      "source": [
        "##### Dictionaries with Lists"
      ]
    },
    {
      "cell_type": "code",
      "execution_count": 38,
      "metadata": {
        "id": "DadZ8fsuvVsH"
      },
      "outputs": [
        {
          "name": "stdout",
          "output_type": "stream",
          "text": [
            "list_1\n",
            "2\n",
            "Smith\n",
            "Smith\n"
          ]
        }
      ],
      "source": [
        "#Why do we not use integer values as a key?\n",
        "#I will use an integer value as a string for the key of this dict\n",
        "random_data={\n",
        "    'list_1':[54,7,11],\n",
        "    '2':['Smith']\n",
        "}\n",
        "\n",
        "#Can loop through the dictionary object\n",
        "for key in random_data:\n",
        "    print(key)\n",
        "\n",
        "for value in random_data['2']:\n",
        "    print(value)\n",
        "print(random_data['2'][0])\n",
        "\n",
        "    "
      ]
    },
    {
      "attachments": {},
      "cell_type": "markdown",
      "metadata": {
        "id": "XGAjke_TvVsH"
      },
      "source": [
        "##### Dictionaries with Dictionaries"
      ]
    },
    {
      "cell_type": "code",
      "execution_count": 39,
      "metadata": {
        "id": "XVhbUSUrvVsH"
      },
      "outputs": [
        {
          "name": "stdout",
          "output_type": "stream",
          "text": [
            "The price for a scoop of chocolate ice cream is:2.99\n"
          ]
        }
      ],
      "source": [
        "#Tp get values that we want, we need to first traverse through the keys:\n",
        "food_dict={\n",
        "    'ice_cream':{\n",
        "        'CHO':2.99,\n",
        "        'VAN':3.99,\n",
        "        'Oreo':5.99\n",
        "    \n",
        "        \n",
        "    }\n",
        "}\n",
        "print(f\"The price for a scoop of chocolate ice cream is:{food_dict['ice_cream']['CHO']}\")"
      ]
    },
    {
      "attachments": {},
      "cell_type": "markdown",
      "metadata": {
        "id": "6ZhjLk9rvVsH"
      },
      "source": [
        "## Dictionaries vs. Lists (over time) Example of RUNTIME\n",
        "### When inputting values in a Dictionary vs List"
      ]
    },
    {
      "cell_type": "code",
      "execution_count": 45,
      "metadata": {
        "id": "GCtOL0TyvVsH"
      },
      "outputs": [],
      "source": [
        "import time\n",
        "#generate a fake dict:\n",
        "d={}\n",
        "\n",
        "for val in range(10000):\n",
        "    d[val]='vale'\n",
        "#Generate a fake list\n",
        "big_list=[val for val in range(10000)]"
      ]
    },
    {
      "cell_type": "code",
      "execution_count": 47,
      "metadata": {
        "id": "wRkH9LcEvVsH"
      },
      "outputs": [
        {
          "name": "stdout",
          "output_type": "stream",
          "text": [
            "vale\n",
            "Elasped time for a dictionary search:0.002000093460083008\n",
            "9999\n",
            "Elasped time for a list object search:0.0\n"
          ]
        }
      ],
      "source": [
        "#Tracking the time it takes to grab something from a dictionary:\n",
        "start_time=time.time()\n",
        "print(d[9999])\n",
        "end_time=time.time()-start_time\n",
        "\n",
        "print('Elasped time for a dictionary search:{}'.format(end_time))\n",
        "# same thing for a list\n",
        "star_time=time.time()\n",
        "for i in range(len(big_list)):\n",
        "    if i==9999:\n",
        "        print(i)\n",
        "end_time=time.time()-star_time\n",
        "print('Elasped time for a list object search:{}'.format(end_time))\n"
      ]
    },
    {
      "attachments": {},
      "cell_type": "markdown",
      "metadata": {
        "id": "A0JtLQk2vVsI"
      },
      "source": [
        "## Exercise #3 - Write a Function that asks someone's name and address, and then stores that into a dictionary, and continues to do so until they choose to 'quit'. Once they quit, the program should print all names and addresses. <br>\n",
        "<p>\n",
        "<b>Proper steps:</b><br>\n",
        "step 1: write a function that takes in information and stores it in a dictionary<br>\n",
        "step 2: define an empty dictionary to work with<br>\n",
        "step 3: create our loop, which asks the user for information until they quit<br>\n",
        "step 4: ask for the information, and store it into variables<br>\n",
        "step 5: check if the user types quit<br>\n",
        "step 5a: print out all information<br>\n",
        "step 5b: break out of the loop<br>\n",
        "step 6: if they didn't quit, add the information to the dictionary<br>\n",
        "step 7: invoke the function by calling it\n",
        "</p>"
      ]
    },
    {
      "cell_type": "code",
      "execution_count": 53,
      "metadata": {
        "id": "EooQW0lJvVsI"
      },
      "outputs": [
        {
          "name": "stdout",
          "output_type": "stream",
          "text": [
            "shshsh sjsjsj\n",
            "sjsjs sjsjjs\n"
          ]
        }
      ],
      "source": [
        "from IPython.display import clear_output                                                                                                                                                 swwwww\n",
        "def stores_stuff():\n",
        "    data={}\n",
        "    while True:\n",
        "        name=input(\"Enter your name or 'quit' to exit\")\n",
        "        if name.lower()=='quit':\n",
        "            break\n",
        "        address=input(\"Enter your address\")\n",
        "        \n",
        "        data[name]=address\n",
        "       \n",
        "    for name, address in data.items():\n",
        "        print(f\"{name} {address}\")\n",
        "\n",
        "stores_stuff()\n",
        "\n",
        "    "
      ]
    },
    {
      "attachments": {},
      "cell_type": "markdown",
      "metadata": {
        "id": "4t2mRyx8vVsI"
      },
      "source": [
        "## Set <br>\n",
        "<p>A Set is an unordered collection data type that is iterable (loop), mutable, and has no duplicate elements.<br>Major advantage is that it is highly optimized in checking if something is in the set, as opposed to checking if something is in a list.</p>"
      ]
    },
    {
      "attachments": {},
      "cell_type": "markdown",
      "metadata": {
        "id": "ZP2IKs3HvVsI"
      },
      "source": [
        "##### Declaring"
      ]
    },
    {
      "cell_type": "code",
      "execution_count": 54,
      "metadata": {
        "id": "xr0Vv_fUvVsI"
      },
      "outputs": [
        {
          "name": "stdout",
          "output_type": "stream",
          "text": [
            "{1, 4, 6}\n"
          ]
        }
      ],
      "source": [
        "#set() or {\n",
        "#wiith no order, {3,2,1} it will outpt as {1,2,3}\n",
        "nums={4,1,6,4}\n",
        "print(nums)"
      ]
    },
    {
      "attachments": {},
      "cell_type": "markdown",
      "metadata": {
        "id": "HQObphljvVsI"
      },
      "source": [
        "##### .add()"
      ]
    },
    {
      "cell_type": "code",
      "execution_count": 56,
      "metadata": {
        "id": "YFDHFSAxvVsI"
      },
      "outputs": [
        {
          "name": "stdout",
          "output_type": "stream",
          "text": [
            "{56, 1, 4, 6}\n"
          ]
        }
      ],
      "source": [
        "#set.add()\n",
        "nums.add(56)\n",
        "print(nums)"
      ]
    },
    {
      "attachments": {},
      "cell_type": "markdown",
      "metadata": {
        "id": "PRcw-9h8vVsJ"
      },
      "source": [
        "##### .remove()"
      ]
    },
    {
      "cell_type": "code",
      "execution_count": 57,
      "metadata": {
        "id": "OzWMbZtcvVsJ"
      },
      "outputs": [
        {
          "name": "stdout",
          "output_type": "stream",
          "text": [
            "{1, 4, 6}\n"
          ]
        }
      ],
      "source": [
        "#remove items from a set by the value.\n",
        "#This is an UNORDERED data collection. Therefor if cannot be acces by an index postion. There are none.\n",
        "#set.remove()\n",
        "nums.remove(56)\n",
        "print(nums)"
      ]
    },
    {
      "attachments": {},
      "cell_type": "markdown",
      "metadata": {
        "id": "8peDkJYDvVsJ"
      },
      "source": [
        "##### .union() "
      ]
    },
    {
      "cell_type": "code",
      "execution_count": 58,
      "metadata": {
        "id": "kszS-rNkvVsJ"
      },
      "outputs": [
        {
          "name": "stdout",
          "output_type": "stream",
          "text": [
            "{1, 2, 3, 4, 5, 6}\n",
            "{1, 2, 3, 4, 5, 6}\n"
          ]
        }
      ],
      "source": [
        "#there are a coupe different ways to go about this:\n",
        "#srt1.union(set2) or we can use | to do thesame thing\n",
        "# this function mereges two sets together and also removes all dupes between both\n",
        "s1={1,2,3,4}\n",
        "s2={3,4,5,6}\n",
        "\n",
        "#Method 1:set.union(set2)\n",
        "s3=s1.union(s2)\n",
        "print(s3)\n",
        "\n",
        "# Method2:Using the |\n",
        "s4=s1|s2\n",
        "print(s4)"
      ]
    },
    {
      "attachments": {},
      "cell_type": "markdown",
      "metadata": {
        "id": "7Pkmgy1bvVsJ"
      },
      "source": [
        "##### .intersection()"
      ]
    },
    {
      "cell_type": "code",
      "execution_count": 59,
      "metadata": {
        "id": "QcThuZRavVsJ"
      },
      "outputs": [
        {
          "name": "stdout",
          "output_type": "stream",
          "text": [
            "{3, 4}\n",
            "{3, 4}\n"
          ]
        }
      ],
      "source": [
        "#Returns the intersection of two sets. This means it gives back the values where the sets have the same value in both\n",
        "#The functionality for this follows the following methods:\n",
        "\n",
        "#MEthod 1: set..intersection(set2)\n",
        "s5=s1.intersection(s2)\n",
        "print(s5)\n",
        "\n",
        "#Method 2:Using the ampersand(&)\n",
        "s6=s1&s2\n",
        "print(s6)"
      ]
    },
    {
      "attachments": {},
      "cell_type": "markdown",
      "metadata": {
        "id": "myOE3tfRvVsJ"
      },
      "source": [
        "##### .difference()"
      ]
    },
    {
      "cell_type": "code",
      "execution_count": 62,
      "metadata": {
        "id": "UrVBrL_-vVsK"
      },
      "outputs": [
        {
          "name": "stdout",
          "output_type": "stream",
          "text": [
            "{1, 2}\n",
            "{5, 6}\n"
          ]
        }
      ],
      "source": [
        "#Returs a set that contains all the elements of the invoking set that are not in the secondary se. This can also be acchived using the '-' operand\n",
        "#this will only take values from the first set that are not present within the second set\n",
        "#order matters\n",
        "s7=s1.difference(s2)\n",
        "print(s7)\n",
        "s8=s2-s1\n",
        "print(s8)"
      ]
    },
    {
      "attachments": {},
      "cell_type": "markdown",
      "metadata": {
        "id": "tsio_H7MvVsK"
      },
      "source": [
        "##### .clear()"
      ]
    },
    {
      "cell_type": "code",
      "execution_count": 63,
      "metadata": {
        "id": "caPfgjjfvVsK"
      },
      "outputs": [
        {
          "name": "stdout",
          "output_type": "stream",
          "text": [
            "set()\n"
          ]
        }
      ],
      "source": [
        "#Empties an entire set\n",
        "#set.clear()\n",
        "\n",
        "s8.clear()\n",
        "print(s8)"
      ]
    },
    {
      "attachments": {},
      "cell_type": "markdown",
      "metadata": {
        "id": "9q2ZAWJhvVsK"
      },
      "source": [
        "##### Frozenset <br>\n",
        "<p>Frozen sets are immutable objects that only support methods and operators that produce a result without affecting the frozen set or sets to which they are applied.</p><br><b>Unique & Immutable</b>"
      ]
    },
    {
      "cell_type": "code",
      "execution_count": 64,
      "metadata": {
        "id": "GY03_VgRvVsK"
      },
      "outputs": [
        {
          "name": "stdout",
          "output_type": "stream",
          "text": [
            "frozenset({1, 2, 3, 4, 5, 6})\n"
          ]
        }
      ],
      "source": [
        "\n",
        "my_frozen_set=frozenset(s3)\n",
        "print(my_frozen_set)\n",
        "\n",
        "#Breaks! DO NOT DO\n",
        "my_frozen_set.add(56)"
      ]
    },
    {
      "attachments": {},
      "cell_type": "markdown",
      "metadata": {
        "id": "S7ZqL_E5vVsK"
      },
      "source": [
        "## Modules"
      ]
    },
    {
      "attachments": {},
      "cell_type": "markdown",
      "metadata": {
        "id": "Eg6fu-i9vVsK"
      },
      "source": [
        "##### Importing Entire Modules"
      ]
    },
    {
      "cell_type": "code",
      "execution_count": 2,
      "metadata": {
        "id": "jsdZ2lSZvVsK"
      },
      "outputs": [
        {
          "name": "stdout",
          "output_type": "stream",
          "text": [
            "3.141592653589793\n",
            "3\n"
          ]
        }
      ],
      "source": [
        "#import____\n",
        "#We can go about this a few differnt ways:\n",
        "#from_import_____\n",
        "#import______as___\n",
        "\n",
        "import math\n",
        "\n",
        "print(math.pi)\n",
        "print(math.floor(math.pi))"
      ]
    },
    {
      "attachments": {},
      "cell_type": "markdown",
      "metadata": {
        "id": "w11uTaPhvVsL"
      },
      "source": [
        "##### Importing Methods Only"
      ]
    },
    {
      "cell_type": "code",
      "execution_count": 4,
      "metadata": {
        "id": "GKE5653UvVsL"
      },
      "outputs": [
        {
          "name": "stdout",
          "output_type": "stream",
          "text": [
            "3.141592653589793\n",
            "3\n"
          ]
        }
      ],
      "source": [
        "from math import floor,pi\n",
        "\n",
        "print(pi)\n",
        "print(floor(pi))"
      ]
    },
    {
      "attachments": {},
      "cell_type": "markdown",
      "metadata": {
        "id": "5Mcnl9suvVsL"
      },
      "source": [
        "##### Using the 'as' Keyword"
      ]
    },
    {
      "cell_type": "code",
      "execution_count": 6,
      "metadata": {
        "id": "zq2EA5QBvVsL"
      },
      "outputs": [
        {
          "name": "stdout",
          "output_type": "stream",
          "text": [
            "3\n"
          ]
        }
      ],
      "source": [
        "#aliasing is the same in the real world as it in programming.\n",
        "from math import floor as f, pi as p\n",
        "import math as m\n",
        "print(m.floor(p))"
      ]
    },
    {
      "attachments": {},
      "cell_type": "markdown",
      "metadata": {
        "id": "pCXWER3zvVsL"
      },
      "source": [
        "##### Creating a Module"
      ]
    },
    {
      "cell_type": "code",
      "execution_count": 3,
      "metadata": {
        "id": "selfDfXhvVsL"
      },
      "outputs": [
        {
          "ename": "ImportError",
          "evalue": "cannot import name 'Player' from 'test' (c:\\Users\\ALIYA\\OneDrive\\Documents\\Coding_Temple\\Week 2\\test.py)",
          "output_type": "error",
          "traceback": [
            "\u001b[1;31m---------------------------------------------------------------------------\u001b[0m",
            "\u001b[1;31mImportError\u001b[0m                               Traceback (most recent call last)",
            "Cell \u001b[1;32mIn[3], line 6\u001b[0m\n\u001b[0;32m      1\u001b[0m \u001b[39m# from test import area_of_a_circle\u001b[39;00m\n\u001b[0;32m      2\u001b[0m \n\u001b[0;32m      3\u001b[0m \u001b[39m# area_of_a_circle(3)\u001b[39;00m\n\u001b[1;32m----> 6\u001b[0m \u001b[39mfrom\u001b[39;00m \u001b[39mtest\u001b[39;00m \u001b[39mimport\u001b[39;00m Player\n\u001b[0;32m      8\u001b[0m Player1\u001b[39m=\u001b[39mPlayer()\n\u001b[0;32m      9\u001b[0m Player2\u001b[39m=\u001b[39mPlayer()\n",
            "\u001b[1;31mImportError\u001b[0m: cannot import name 'Player' from 'test' (c:\\Users\\ALIYA\\OneDrive\\Documents\\Coding_Temple\\Week 2\\test.py)"
          ]
        }
      ],
      "source": [
        "# from test import area_of_a_circle\n",
        "\n",
        "# area_of_a_circle(3)\n",
        "\n",
        "\n",
        "from test import Player\n",
        "\n",
        "Player1=Player()\n",
        "Player2=Player()\n",
        "#THis is an attribute\n",
        "Player().hp\n",
        "#Methods as well\n",
        "Player().defence(10)\n",
        "Player().hp"
      ]
    }
  ],
  "metadata": {
    "colab": {
      "provenance": []
    },
    "kernelspec": {
      "display_name": "Python 3",
      "language": "python",
      "name": "python3"
    },
    "language_info": {
      "codemirror_mode": {
        "name": "ipython",
        "version": 3
      },
      "file_extension": ".py",
      "mimetype": "text/x-python",
      "name": "python",
      "nbconvert_exporter": "python",
      "pygments_lexer": "ipython3",
      "version": "3.11.3"
    },
    "vscode": {
      "interpreter": {
        "hash": "26de051ba29f2982a8de78e945f0abaf191376122a1563185a90213a26c5da77"
      }
    }
  },
  "nbformat": 4,
  "nbformat_minor": 0
}
