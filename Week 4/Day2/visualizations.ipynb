{
 "cells": [
  {
   "attachments": {},
   "cell_type": "markdown",
   "metadata": {},
   "source": [
    "# **Coding Temple's Data Analytics Program**\n",
    "---\n",
    "## **Adv Python 2: Data Visualizations Assignment**\n",
    "\n",
    "## **Part 1:**"
   ]
  },
  {
   "attachments": {},
   "cell_type": "markdown",
   "metadata": {},
   "source": [
    "### Getting Started\n",
    "For today's assignment, you will work with a dataset all about Kickstarter Funding.To download the data, click [here](https://www.kaggle.com/datasets/patkle/most-funded-kickstarter-projects)."
   ]
  },
  {
   "attachments": {},
   "cell_type": "markdown",
   "metadata": {},
   "source": [
    "### Task 1: Imports\n",
    "For this assignment, you will need to import pandas and matplotlib. Alias them according to the common naming conventions for both!"
   ]
  },
  {
   "cell_type": "code",
   "execution_count": null,
   "metadata": {},
   "outputs": [],
   "source": [
    "import pandas as pd\n",
    "import plotly.express as px\n",
    "import matplotlib.pyplot as plt\n",
    "import csv\n",
    "from itertools import groupby\n"
   ]
  },
  {
   "attachments": {},
   "cell_type": "markdown",
   "metadata": {},
   "source": [
    "### Task 2: Load the data\n",
    "Using pandas, load the data into a dataframe object and view the first 20 rows"
   ]
  },
  {
   "cell_type": "code",
   "execution_count": null,
   "metadata": {},
   "outputs": [],
   "source": [
    "most_funded=pd.read_csv(r\"C:\\Users\\ALIYA\\OneDrive\\Documents\\Coding_Temple\\Week 4\\Day2\\most_funded_feb_2023.csv\")\n",
    "pd.DataFrame.from_dict(most_funded).head(0)\n"
   ]
  },
  {
   "attachments": {},
   "cell_type": "markdown",
   "metadata": {},
   "source": [
    "### Task 3: Create Visualizations\n",
    "Using matplotlib, create visualizations that answer the following questions about the data. Feel free to use whatever plots and graphs you would prefer to use. After you create the visualization, create a markdown cell below it, describing what relationship was plotted and what insights you gleaned. Make this more than a single sentence. \n",
    "\n",
    "**Bonus points for the more intricate and detailed visualizations!**"
   ]
  },
  {
   "attachments": {},
   "cell_type": "markdown",
   "metadata": {},
   "source": [
    "- What is the distribution of the `category_name` column?"
   ]
  },
  {
   "cell_type": "code",
   "execution_count": null,
   "metadata": {},
   "outputs": [],
   "source": [
    "category_counts = most_funded['category_name'].value_counts()\n",
    "\n",
    "plt.figure(figsize=(10, 6))\n",
    "plt.bar(category_counts.index, category_counts.values)\n",
    "plt.xlabel('Category Name')\n",
    "plt.ylabel('Count')\n",
    "plt.title('Distribution of Category Names')\n",
    "plt.xticks(rotation=90)\n",
    "plt.show()"
   ]
  },
  {
   "attachments": {},
   "cell_type": "markdown",
   "metadata": {},
   "source": [
    "- Which country has the most projects?"
   ]
  },
  {
   "cell_type": "code",
   "execution_count": null,
   "metadata": {},
   "outputs": [],
   "source": [
    "country_counts = most_funded['country'].value_counts()\n",
    "plt.figure(figsize=(10, 6))\n",
    "plt.bar(country_counts.index, country_counts.values)\n",
    "plt.xlabel('Country')\n",
    "plt.ylabel('Project Count')\n",
    "plt.title('Number of Projects by Country')\n",
    "plt.xticks(rotation=90)\n",
    "plt.show()"
   ]
  },
  {
   "attachments": {},
   "cell_type": "markdown",
   "metadata": {},
   "source": [
    "- What are the top 20 Kickstarter projects?"
   ]
  },
  {
   "cell_type": "code",
   "execution_count": null,
   "metadata": {},
   "outputs": [],
   "source": [
    "top_20 = most_funded.nlargest(20, 'pledged')\n",
    "\n",
    "plt.figure(figsize=(12, 6))\n",
    "plt.bar(top_20['name'], top_20['pledged'], color='orange')\n",
    "plt.xlabel('Project Name')\n",
    "plt.ylabel('Funding Amount')\n",
    "plt.title('Top 10 Most Funded Kickstarter Projects')\n",
    "plt.xticks(rotation=45, ha='right')\n",
    "plt.tight_layout()\n",
    "plt.show()"
   ]
  },
  {
   "attachments": {},
   "cell_type": "markdown",
   "metadata": {},
   "source": [
    "- Which parent category has the most funded projects?"
   ]
  },
  {
   "cell_type": "code",
   "execution_count": null,
   "metadata": {},
   "outputs": [],
   "source": [
    "parent_category_counts = most_funded['category_name'].value_counts()\n",
    "plt.figure(figsize=(10, 6))\n",
    "plt.bar(parent_category_counts.index, parent_category_counts.values)\n",
    "plt.xlabel('Parent Category')\n",
    "plt.ylabel('Project Count')\n",
    "plt.title('Number of Projects by Parent Category')\n",
    "plt.xticks(rotation=90)\n",
    "plt.show()"
   ]
  },
  {
   "attachments": {},
   "cell_type": "markdown",
   "metadata": {},
   "source": [
    "- Create a box-plot for the `category_parent_id` column"
   ]
  },
  {
   "cell_type": "code",
   "execution_count": null,
   "metadata": {},
   "outputs": [],
   "source": [
    "plt.figure(figsize=(10, 6))\n",
    "plt.boxplot(most_funded['category_parent_id'])\n",
    "plt.xlabel('Category Parent ID')\n",
    "plt.ylabel('Value')\n",
    "plt.title('Box Plot for Category Parent ID')\n",
    "plt.show()"
   ]
  },
  {
   "attachments": {},
   "cell_type": "markdown",
   "metadata": {},
   "source": [
    "- Create a user-defined function that allows a user to input a category and returns a visualization of your choice."
   ]
  },
  {
   "cell_type": "code",
   "execution_count": null,
   "metadata": {},
   "outputs": [],
   "source": [
    "def category_funding(category_name):\n",
    "    most_funded = pd.read_csv('most_funded.csv')\n",
    "    \n",
    "    category_data = most_funded[most_funded['category'] == category_name]\n",
    "    plt.figure(figsize=(10, 6))\n",
    "    plt.bar(category_data['name'], category_data['funding_amount'], color='orange')\n",
    "    plt.xlabel('Project Name')\n",
    "    plt.ylabel('Funding Amount')\n",
    "    plt.title(f'Funding Amount Distribution for {category_name} Projects')\n",
    "    plt.xticks(rotation=45, ha='right')\n",
    "    plt.tight_layout()\n",
    "    plt.show()\n",
    "user_input_category = input(\"Enter a category name: \")\n",
    "category_funding(user_input_category)\n"
   ]
  },
  {
   "attachments": {},
   "cell_type": "markdown",
   "metadata": {},
   "source": [
    "## **Part 2:**"
   ]
  },
  {
   "attachments": {},
   "cell_type": "markdown",
   "metadata": {},
   "source": [
    "### Getting Started\n",
    "\n",
    "For part 2, we will be working with the [US Public Food Assistance](https://www.kaggle.com/datasets/jpmiller/publicassistance) dataset. This dataset can be found on Kaggle via the hyperlink provided."
   ]
  },
  {
   "attachments": {},
   "cell_type": "markdown",
   "metadata": {},
   "source": [
    "### Task 1: Imports\n",
    "\n",
    "Import plotly.express. Alias according to industry standard."
   ]
  },
  {
   "cell_type": "code",
   "execution_count": null,
   "metadata": {},
   "outputs": [],
   "source": [
    "import pandas as pd\n",
    "import plotly.express as px\n",
    "import matplotlib.pyplot as plt\n",
    "import csv\n",
    "from itertools import groupby\n"
   ]
  },
  {
   "attachments": {},
   "cell_type": "markdown",
   "metadata": {},
   "source": [
    "### Task 2: Load the data\n",
    "Write a function which does the following:\n",
    "- Input: \n",
    "    - Function should take a filepath (str) object\n",
    "- Creates a dataframe using pandas\n",
    "- Lower-case all column headers\n",
    "- Replace the space with an underscore (_) in all column headers\n",
    "- Output:\n",
    "    - Cleaned dataframe object"
   ]
  },
  {
   "cell_type": "code",
   "execution_count": null,
   "metadata": {},
   "outputs": [],
   "source": [
    "def cleandata(filepath):\n",
    "    data = pd.read_csv(filepath)\n",
    "    data.columns = data.columns.str.lower()\n",
    "    data.columns = data.columns.str.replace(' ', '_')\n",
    "\n",
    "    return data\n",
    "file=cleandata(r\"C:\\Users\\ALIYA\\OneDrive\\Documents\\Coding_Temple\\Week 4\\Day2\\SNAP_history_1969_2019.csv\")"
   ]
  },
  {
   "attachments": {},
   "cell_type": "markdown",
   "metadata": {},
   "source": [
    "### Task 3: Basic EDA\n",
    "- Using plotly express, create a violin plot of each numerical feature in the data."
   ]
  },
  {
   "cell_type": "code",
   "execution_count": null,
   "metadata": {},
   "outputs": [],
   "source": [
    "numerical_columns = file.select_dtypes(include='number').columns.tolist()\n",
    "\n",
    "for column in numerical_columns:\n",
    "        fig = px.violin(file, y=column, box=True, points=\"all\", title=f\"Violin Plot  {column}\")\n",
    "        fig.show()"
   ]
  },
  {
   "attachments": {},
   "cell_type": "markdown",
   "metadata": {},
   "source": [
    "- Create a histogram of the `total_costs(m)` column"
   ]
  },
  {
   "cell_type": "code",
   "execution_count": null,
   "metadata": {},
   "outputs": [],
   "source": [
    "fig = px.histogram(file, x='total_costs(m)', title=\"Histogram of total_costs(m)\")"
   ]
  },
  {
   "attachments": {},
   "cell_type": "markdown",
   "metadata": {},
   "source": [
    "- Create a visualization detailing the ratio of non-null values to null values in the entire dataset"
   ]
  },
  {
   "cell_type": "code",
   "execution_count": null,
   "metadata": {},
   "outputs": [],
   "source": [
    "non_null_counts = file.notnull().sum()\n",
    "null_counts = file.isnull().sum()\n",
    "total_counts = file.shape[0]\n",
    "ratios = non_null_counts / total_counts\n",
    "\n",
    "ratios_df = pd.DataFrame({'Column': file.columns, 'Ratio': ratios})\n",
    "fig = px.bar(ratios_df, x='Column', y='Ratio', title='Ratio of Non-Null Values to Null Values in the Dataset')\n",
    "fig.show()"
   ]
  },
  {
   "attachments": {},
   "cell_type": "markdown",
   "metadata": {},
   "source": [
    "- Create a scatterplot to show the relationship bewtween the total benefits and total costs"
   ]
  },
  {
   "cell_type": "code",
   "execution_count": null,
   "metadata": {},
   "outputs": [],
   "source": [
    "fig = px.scatter(file, x='otal_costs(m)t', y='total_benefits(m)', title='Scatter Plot of Total Benefits vs. Total Costs')"
   ]
  },
  {
   "attachments": {},
   "cell_type": "markdown",
   "metadata": {},
   "source": [
    "### Task 4: Feature Engineering\n",
    "Now, let's create a new column, representing the change in total_cost from the previous fiscal year.\n",
    "\n",
    "After you have the code working in the cell below, try to incorporate it into your function from task 2!"
   ]
  },
  {
   "cell_type": "code",
   "execution_count": null,
   "metadata": {},
   "outputs": [],
   "source": [
    "file.sort_values(by='fiscal_year', inplace=True)\n",
    "\n",
    "file['cost_change_from_previous_year'] = file['total_costs(m)'].diff()\n",
    "\n",
    "file['cost_change_from_previous_year'].fillna(0, inplace=True)\n"
   ]
  },
  {
   "attachments": {},
   "cell_type": "markdown",
   "metadata": {},
   "source": [
    "### Task 5: Heatmap\n",
    "\n",
    "Create a heatmap visualization. Return text in the heatmap and move the x axes to the top of the graph. "
   ]
  },
  {
   "cell_type": "code",
   "execution_count": null,
   "metadata": {},
   "outputs": [],
   "source": [
    "fig = px.imshow(file.corr(), x=file.columns, y=file.columns,\n",
    "                color_continuous_scale='Viridis', text=True)\n",
    "\n",
    "fig.update_xaxes(side=\"top\")\n",
    "\n",
    "fig.update_layout(\n",
    "    title=\"Heatmap of Correlation\",\n",
    "    xaxis_title=\"Features\",\n",
    "    yaxis_title=\"Features\",\n",
    "    autosize=False,\n",
    "    width=800,\n",
    "    height=800,\n",
    "    margin=dict(l=50, r=50, b=100, t=100),\n",
    ")\n"
   ]
  },
  {
   "attachments": {},
   "cell_type": "markdown",
   "metadata": {},
   "source": [
    "### Task 6: Communicate Results\n",
    "In the markdown cell below, please give an explanation of what the visualization represents as if it were a presentation to someone who had never seen this data before!"
   ]
  },
  {
   "attachments": {},
   "cell_type": "markdown",
   "metadata": {},
   "source": [
    "**YOUR ANSWER HERE**"
   ]
  },
  {
   "cell_type": "markdown",
   "metadata": {},
   "source": []
  }
 ],
 "metadata": {
  "kernelspec": {
   "display_name": "Python 3",
   "language": "python",
   "name": "python3"
  },
  "language_info": {
   "codemirror_mode": {
    "name": "ipython",
    "version": 3
   },
   "file_extension": ".py",
   "mimetype": "text/x-python",
   "name": "python",
   "nbconvert_exporter": "python",
   "pygments_lexer": "ipython3",
   "version": "3.11.4"
  },
  "orig_nbformat": 4,
  "vscode": {
   "interpreter": {
    "hash": "26de051ba29f2982a8de78e945f0abaf191376122a1563185a90213a26c5da77"
   }
  }
 },
 "nbformat": 4,
 "nbformat_minor": 2
}
